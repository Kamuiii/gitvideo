{
 "cells": [
  {
   "cell_type": "code",
   "execution_count": 3,
   "id": "59fd143a",
   "metadata": {},
   "outputs": [],
   "source": [
    "import numpy as np\n",
    "import matplotlib.pyplot as plt"
   ]
  },
  {
   "cell_type": "code",
   "execution_count": 6,
   "id": "e15a7222",
   "metadata": {},
   "outputs": [],
   "source": [
    "Torr_Pa = 1/133.2"
   ]
  },
  {
   "cell_type": "code",
   "execution_count": 7,
   "id": "62010a11",
   "metadata": {},
   "outputs": [],
   "source": [
    "U_L = 117.55 #mV"
   ]
  },
  {
   "cell_type": "code",
   "execution_count": 8,
   "id": "be7c3568",
   "metadata": {},
   "outputs": [],
   "source": [
    "p_L = 707.4/Torr_Pa"
   ]
  },
  {
   "cell_type": "code",
   "execution_count": 9,
   "id": "a500ef59",
   "metadata": {},
   "outputs": [
    {
     "name": "stdout",
     "output_type": "stream",
     "text": [
      "94225.68\n"
     ]
    }
   ],
   "source": [
    "print(p_L)"
   ]
  },
  {
   "cell_type": "code",
   "execution_count": 10,
   "id": "3fd3e091",
   "metadata": {},
   "outputs": [],
   "source": [
    "U_t = -24.11 #mV"
   ]
  },
  {
   "cell_type": "code",
   "execution_count": 12,
   "id": "389d2de2",
   "metadata": {},
   "outputs": [],
   "source": [
    "p_t = 10"
   ]
  },
  {
   "cell_type": "code",
   "execution_count": 13,
   "id": "bcf325a5",
   "metadata": {},
   "outputs": [],
   "source": [
    "dev_p_t = 10"
   ]
  },
  {
   "cell_type": "code",
   "execution_count": 15,
   "id": "702421dd",
   "metadata": {},
   "outputs": [],
   "source": [
    "dev_U = 200 *0.0005"
   ]
  },
  {
   "cell_type": "code",
   "execution_count": 16,
   "id": "27e9f4e2",
   "metadata": {},
   "outputs": [],
   "source": [
    "U_val = np.array([U_L, U_t])\n",
    "p_val = np.array([p_L,p_t])"
   ]
  },
  {
   "cell_type": "code",
   "execution_count": 17,
   "id": "ebc5b46f",
   "metadata": {},
   "outputs": [
    {
     "data": {
      "text/plain": [
       "[<matplotlib.lines.Line2D at 0x12ac7aae9a0>]"
      ]
     },
     "execution_count": 17,
     "metadata": {},
     "output_type": "execute_result"
    },
    {
     "data": {
      "image/png": "[encoded data removed]",
      "text/plain": [
       "<Figure size 640x480 with 1 Axes>"
      ]
     },
     "metadata": {},
     "output_type": "display_data"
    }
   ],
   "source": [
    "plt.plot(U_val,p_val)"
   ]
  },
  {
   "cell_type": "code",
   "execution_count": 19,
   "id": "f735ad24",
   "metadata": {},
   "outputs": [],
   "source": [
    "cali = np.polyfit(U_val,p_val,1)"
   ]
  },
  {
   "cell_type": "code",
   "execution_count": 20,
   "id": "c04ebc01",
   "metadata": {
    "scrolled": true
   },
   "outputs": [
    {
     "name": "stdout",
     "output_type": "stream",
     "text": [
      "[  665.08315685 16045.15491176]\n"
     ]
    }
   ],
   "source": [
    "print(cali)"
   ]
  },
  {
   "cell_type": "code",
   "execution_count": 23,
   "id": "ed31d8dd",
   "metadata": {},
   "outputs": [],
   "source": [
    "cel_to_kel = 273.15"
   ]
  },
  {
   "cell_type": "code",
   "execution_count": 26,
   "id": "acf8eb1d",
   "metadata": {},
   "outputs": [],
   "source": [
    "t_k = 97.969 + cel_to_kel"
   ]
  },
  {
   "cell_type": "code",
   "execution_count": 27,
   "id": "b50d1070",
   "metadata": {},
   "outputs": [
    {
     "name": "stdout",
     "output_type": "stream",
     "text": [
      "371.11899999999997\n"
     ]
    }
   ],
   "source": [
    "print(t_k)"
   ]
  },
  {
   "cell_type": "code",
   "execution_count": 29,
   "id": "9748fde0",
   "metadata": {},
   "outputs": [],
   "source": [
    "U_k = 117.08"
   ]
  },
  {
   "cell_type": "code",
   "execution_count": null,
   "id": "ac46c622",
   "metadata": {},
   "outputs": [],
   "source": [
    "p_k = "
   ]
  },
  {
   "cell_type": "code",
   "execution_count": null,
   "id": "48fcc9f5",
   "metadata": {},
   "outputs": [],
   "source": [
    "t_E = "
   ]
  },
  {
   "cell_type": "code",
   "execution_count": 28,
   "id": "c65201bf",
   "metadata": {},
   "outputs": [],
   "source": [
    "U_E = 80.05"
   ]
  },
  {
   "cell_type": "code",
   "execution_count": 30,
   "id": "22923dd8",
   "metadata": {},
   "outputs": [],
   "source": [
    "U_LN = 05.09"
   ]
  },
  {
   "cell_type": "code",
   "execution_count": null,
   "id": "de8e1507",
   "metadata": {},
   "outputs": [],
   "source": []
  }
 ],
 "metadata": {
  "kernelspec": {
   "display_name": "Python 3 (ipykernel)",
   "language": "python",
   "name": "python3"
  },
  "language_info": {
   "codemirror_mode": {
    "name": "ipython",
    "version": 3
   },
   "file_extension": ".py",
   "mimetype": "text/x-python",
   "name": "python",
   "nbconvert_exporter": "python",
   "pygments_lexer": "ipython3",
   "version": "3.11.5"
  }
 },
 "nbformat": 4,
 "nbformat_minor": 5
}
